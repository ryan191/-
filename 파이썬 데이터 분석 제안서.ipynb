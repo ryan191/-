{
 "cells": [
  {
   "cell_type": "code",
   "execution_count": null,
   "metadata": {},
   "outputs": [],
   "source": [
    "파이썬데이터분석 - 분석 제안서\n",
    "202004226 이성호\n",
    "202204276 조하은\n",
    "202204277 진애리\n",
    "\n",
    "1. 개요\n",
    "참여 공모전: https://www.loud.kr/contest/view/132335/brief\n",
    "참가분야: 데이터분석\n",
    "분석의 목적: 주변에서 사교육을 한 번도 받아본 적이 없는 사람을 찾기 힘들 정도로 사교육이 필수 시 되는 시대가 왔고 이러한 사회적 현상은 공교육과 사교육 간의 관계가 더욱 중요해지게 만듦. 따라서 공교육 만족도와 사교육 참여율 간의 관계와 사교육 참여와 학업 성취도 간의 관계를 분석하여 어떠한 관계가 있는지 확인하고 사교육보다는 가구소득과 지역에 따른 차별이 없는 공교육에 초점을 맞출 수 있도록 하는 방안을 모색하기 위함.\n",
    "\n",
    "2. 데이터 수집\n",
    "데이터 출처, 수집: KOSIS 국가통계포털 (교육부분)\n",
    "수집할 데이터의 구조 및 특성: \n",
    "1) 학생의 학교생활 만족도(교육방법, 교육내용) \n",
    ": 매우 만족, 약간 만족, 보통, 약간 불만족, 매우 불만족으로 구간이 나뉨\n",
    "2) 학생 성적 구간별 사교육 참여율\n",
    ": 상위 10% 이내, 11~30%, 31~60%, 60~80%, 81~100%로 구간이 나뉨\n",
    "3) 학교급별 사교육 참여율\n",
    "\n",
    "모든 데이터를 csv파일로 다운받아 사용할 예정\n",
    "\n",
    "3. 데이터 전처리\n",
    "1) 학생의 학교생활 만족도(교육방법, 교육내용)\n",
    ": 매우 만족, 약간 만족, 보통, 약간 불만족, 매우 불만족으로 구간을 매우 만족과 약간 만족을 만족으로 약간 불만족과 매우 불만족을 불만족으로 통합할 예정\n",
    "\n",
    "4. 데이터 탐색 및 시각화\n",
    "1) 학생의 학교생활 만족도와 학교급별 사교육 참여율을 그래프를 통해 상관분석 할 예정\n",
    "2) 사교육 참여자의 구간 별 성적 분포를 그래프로 시각화하여 성적과 사교육의 관계를 분석할 예정\n",
    "\n",
    "분석 데이터\n",
    "통계청,「사회조사」, 2022, 2024.04.26, 학생의 학교생활 만족도(교육내용, 중·고 재학생)\n",
    "https://kosis.kr/statHtml/statHtml.do?orgId=101&tblId=DT_1SSED011R&conn_path=I2\n",
    "\n",
    "통계청,「사회조사」, 2022, 2024.04.26, 학생의 학교생활 만족도(교육방법, 중·고 재학생)\n",
    "https://kosis.kr/statHtml/statHtml.do?orgId=101&tblId=DT_1SSED012R&conn_path=I2\n",
    "\n",
    "통계청, 교육부,「초중고사교육비조사」, 2023, 2024.04.26, 학생 성적 구간별 사교육 참여율\n",
    "https://kosis.kr/statHtml/statHtml.do?orgId=101&tblId=DT_1PE303&conn_path=I2\n",
    "\n",
    "통계청, 교육부,「초중고사교육비조사」, 2023, 2024.04.26, 학교급별 사교육 참여율\n",
    "https://kosis.kr/statHtml/statHtml.do?orgId=101&tblId=DT_1PE301&conn_path=I2\n",
    "\n"
   ]
  }
 ],
 "metadata": {
  "kernelspec": {
   "display_name": "Python 3",
   "language": "python",
   "name": "python3"
  },
  "language_info": {
   "codemirror_mode": {
    "name": "ipython",
    "version": 3
   },
   "file_extension": ".py",
   "mimetype": "text/x-python",
   "name": "python",
   "nbconvert_exporter": "python",
   "pygments_lexer": "ipython3",
   "version": "3.8.5"
  }
 },
 "nbformat": 4,
 "nbformat_minor": 4
}
